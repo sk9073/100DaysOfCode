{
 "metadata": {
  "language_info": {
   "codemirror_mode": {
    "name": "ipython",
    "version": 3
   },
   "file_extension": ".py",
   "mimetype": "text/x-python",
   "name": "python",
   "nbconvert_exporter": "python",
   "pygments_lexer": "ipython3",
   "version": 3
  },
  "orig_nbformat": 2
 },
 "nbformat": 4,
 "nbformat_minor": 2,
 "cells": [
  {
   "source": [
    "# Day 10\n",
    "    Participated in code chef contest"
   ],
   "cell_type": "markdown",
   "metadata": {}
  },
  {
   "source": [
    "## CRNA1\n",
    "https://www.codechef.com/HELI2021/problems/CRNA1"
   ],
   "cell_type": "markdown",
   "metadata": {}
  },
  {
   "cell_type": "code",
   "execution_count": null,
   "metadata": {},
   "outputs": [],
   "source": [
    "# cook your dish here\n",
    "import math\n",
    "from collections import Counter\n",
    "\n",
    "a = int(input())\n",
    "inp = []\n",
    "for _ in range(a):\n",
    "    N = int(input())\n",
    "    inp =[int(math.sqrt(int(x))) for x in input().split()]\n",
    "    counts  = Counter(inp)\n",
    "    for i in range(1,N+1):\n",
    "        if not counts[i]:\n",
    "            print(i**2)\n"
   ]
  },
  {
   "cell_type": "code",
   "execution_count": null,
   "metadata": {},
   "outputs": [],
   "source": []
  }
 ]
}