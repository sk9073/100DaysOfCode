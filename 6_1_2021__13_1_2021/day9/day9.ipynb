{
 "metadata": {
  "language_info": {
   "codemirror_mode": {
    "name": "ipython",
    "version": 3
   },
   "file_extension": ".py",
   "mimetype": "text/x-python",
   "name": "python",
   "nbconvert_exporter": "python",
   "pygments_lexer": "ipython3",
   "version": "3.8.5-final"
  },
  "orig_nbformat": 2,
  "kernelspec": {
   "name": "python3",
   "display_name": "Python 3",
   "language": "python"
  }
 },
 "nbformat": 4,
 "nbformat_minor": 2,
 "cells": [
  {
   "source": [
    "# Day 8\n",
    "\n",
    "### Things learned\n",
    "    Dynamic Programming sums:\n",
    "    Converting One string to another"
   ],
   "cell_type": "markdown",
   "metadata": {}
  },
  {
   "source": [
    "## String conversion  TOP-DOWN"
   ],
   "cell_type": "markdown",
   "metadata": {}
  },
  {
   "cell_type": "code",
   "execution_count": 14,
   "metadata": {},
   "outputs": [],
   "source": [
    "def findMinOperation(s1, s2, index1, index2 , tempDict ={}):\n",
    "    if index1 == len(s1):\n",
    "        return len(s2)-index2\n",
    "    if index2 == len(s2):\n",
    "        return len(s1)-index1\n",
    "    if s1[index1] == s2[index2]:\n",
    "        return findMinOperation(s1, s2, index1+1, index2+1)\n",
    "    else:\n",
    "        key = str(index1) + str(index2)\n",
    "        if key not in tempDict:\n",
    "            deleteOp = 1 + findMinOperation(s1, s2, index1, index2+1)\n",
    "            insertOp = 1 + findMinOperation(s1, s2, index1+1, index2)\n",
    "            replaceOp = 1 + findMinOperation(s1, s2, index1+1, index2+1)\n",
    "            tempDict[key] = min (deleteOp, insertOp, replaceOp)\n",
    "        return tempDict[key]"
   ]
  },
  {
   "cell_type": "code",
   "execution_count": 15,
   "metadata": {},
   "outputs": [
    {
     "output_type": "stream",
     "name": "stdout",
     "text": [
      "4\n"
     ]
    }
   ],
   "source": [
    "print(findMinOperation(\"table\", \"tbrltt\", 0, 0,{}))"
   ]
  },
  {
   "source": [
    "## String conversion BOTTOM UP"
   ],
   "cell_type": "markdown",
   "metadata": {}
  },
  {
   "cell_type": "code",
   "execution_count": 16,
   "metadata": {},
   "outputs": [],
   "source": [
    "def findMinOperation(s1, s2, index1, index2 , tempDict ={}):\n",
    "    if index1 == 0:\n",
    "        return index2\n",
    "    if index2 == 0:\n",
    "        return index1\n",
    "    if s1[index1-1] == s2[index2-1]:\n",
    "        return findMinOperation(s1, s2, index1-1, index2-1)\n",
    "    else:\n",
    "        key = str(index1) + str(index2)\n",
    "        if key not in tempDict:\n",
    "            deleteOp  =findMinOperation(s1, s2, index1-1, index2)\n",
    "            insertOp  =findMinOperation(s1, s2, index1, index2-1)\n",
    "            replaceOp =findMinOperation(s1, s2, index1-1, index2-1)\n",
    "            tempDict[key] = 1 + min (deleteOp, insertOp, replaceOp)\n",
    "        return tempDict[key]"
   ]
  },
  {
   "cell_type": "code",
   "execution_count": 17,
   "metadata": {},
   "outputs": [
    {
     "output_type": "stream",
     "name": "stdout",
     "text": [
      "4\n"
     ]
    }
   ],
   "source": [
    "print(findMinOperation(\"table\", \"tbrltt\",len(\"table\"),len(\"tbrltt\"),{}))"
   ]
  },
  {
   "cell_type": "code",
   "execution_count": null,
   "metadata": {},
   "outputs": [],
   "source": []
  }
 ]
}