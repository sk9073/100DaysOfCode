{
 "metadata": {
  "language_info": {
   "codemirror_mode": {
    "name": "ipython",
    "version": 3
   },
   "file_extension": ".py",
   "mimetype": "text/x-python",
   "name": "python",
   "nbconvert_exporter": "python",
   "pygments_lexer": "ipython3",
   "version": "3.8.5-final"
  },
  "orig_nbformat": 2,
  "kernelspec": {
   "name": "python3",
   "display_name": "Python 3",
   "language": "python"
  }
 },
 "nbformat": 4,
 "nbformat_minor": 2,
 "cells": [
  {
   "source": [
    " ### EULER'S TOTIENT FUNCTION  \n",
    "    Calculates No of relative primes , theres a formula check it out"
   ],
   "cell_type": "markdown",
   "metadata": {}
  },
  {
   "cell_type": "code",
   "execution_count": 1,
   "metadata": {},
   "outputs": [
    {
     "output_type": "execute_result",
     "data": {
      "text/plain": [
       "4"
      ]
     },
     "metadata": {},
     "execution_count": 1
    }
   ],
   "source": [
    "def euler(n):\n",
    "    result = n\n",
    "    p =2\n",
    "    while p*p <=n:\n",
    "        if not n % p:\n",
    "            while not n%p:\n",
    "                n= n//p\n",
    "            result= result*(1.0 - (1.0/float(p)))\n",
    "        p += 1\n",
    "\n",
    "    \n",
    "    if n >= 2:\n",
    "        result= result*(1.0 - (1.0/float(n)))\n",
    "\n",
    "    return int(result)\n",
    "euler(8)\n",
    "    "
   ]
  },
  {
   "source": [
    "### EFFICIENT WAY TO GENERATE PRIME FACTORS"
   ],
   "cell_type": "markdown",
   "metadata": {}
  },
  {
   "cell_type": "code",
   "execution_count": 2,
   "metadata": {},
   "outputs": [
    {
     "output_type": "stream",
     "name": "stdout",
     "text": [
      "2\n3\n"
     ]
    }
   ],
   "source": [
    "import math\n",
    "\n",
    "def prime(n):\n",
    "    while(not n%2) :\n",
    "        print(2)\n",
    "        n = n//2\n",
    "    for i in range(3,int(math.sqrt(n))+1,2):\n",
    "         while(not n % i):\n",
    "            print(i)\n",
    "            n = n//i\n",
    "\n",
    "    if n > 2:\n",
    "        print(n) \n",
    "\n",
    "prime(6)"
   ]
  }
 ]
}