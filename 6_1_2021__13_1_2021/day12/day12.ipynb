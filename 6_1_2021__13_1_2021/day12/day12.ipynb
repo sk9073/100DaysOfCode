{
 "metadata": {
  "language_info": {
   "codemirror_mode": {
    "name": "ipython",
    "version": 3
   },
   "file_extension": ".py",
   "mimetype": "text/x-python",
   "name": "python",
   "nbconvert_exporter": "python",
   "pygments_lexer": "ipython3",
   "version": 3
  },
  "orig_nbformat": 2
 },
 "nbformat": 4,
 "nbformat_minor": 2,
 "cells": [
  {
   "source": [
    "## Day 12:\n",
    "    Learned Two pointer Technique\n",
    "    Tried the sum \n",
    "https://www.codechef.com/HELI2021/problems/TRAI6 "
   ],
   "cell_type": "markdown",
   "metadata": {}
  },
  {
   "cell_type": "code",
   "execution_count": null,
   "metadata": {},
   "outputs": [],
   "source": [
    "def gcd(a,b):\n",
    "    if not a:\n",
    "        return b\n",
    "    if a == 1:\n",
    "        return b\n",
    "    if b == 1:\n",
    "        return a\n",
    "    else:\n",
    "        return gcd(b%a,a)\n",
    "\n"
   ]
  },
  {
   "cell_type": "code",
   "execution_count": null,
   "metadata": {},
   "outputs": [],
   "source": [
    "a = int(input())\n",
    "for _ in range(a):\n",
    "    inp = []\n",
    "    count = 0\n",
    "    b = int(input())\n",
    "    for _ in range(b):\n",
    "        inp.append([int(x) for x in input().split()])\n",
    "\n",
    "    for j in inp:\n",
    "        GCDs = gcd(j[0],j[1])\n",
    "        k = (j[2]-j[1]-j[0])\n",
    "        if (k %  GCDs == 0):\n",
    "            m = 0\n",
    "            n = j[2]\n",
    "            while m <n :\n",
    "                if j[0]*m + j[1]*n == j[2]:\n",
    "                    count += 1\n",
    "                    break\n",
    "                elif j[0]*m + j[1]*n < j[2]:\n",
    "                    m += 1\n",
    "                else:\n",
    "                    n -= 1\n",
    "    print(count)"
   ]
  }
 ]
}