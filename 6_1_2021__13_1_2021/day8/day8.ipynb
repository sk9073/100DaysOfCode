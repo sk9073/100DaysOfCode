{
 "metadata": {
  "language_info": {
   "codemirror_mode": {
    "name": "ipython",
    "version": 3
   },
   "file_extension": ".py",
   "mimetype": "text/x-python",
   "name": "python",
   "nbconvert_exporter": "python",
   "pygments_lexer": "ipython3",
   "version": "3.8.5-final"
  },
  "orig_nbformat": 2,
  "kernelspec": {
   "name": "python3",
   "display_name": "Python 3",
   "language": "python"
  }
 },
 "nbformat": 4,
 "nbformat_minor": 2,
 "cells": [
  {
   "source": [
    "# Day 8\n",
    "\n",
    "### Things learned\n",
    "    Dynamic Programming sums:\n",
    "    Number Factor\n",
    "    House Rober"
   ],
   "cell_type": "markdown",
   "metadata": {}
  },
  {
   "source": [
    "## Number factor\n",
    "    No of ways to arrange N as sum of 1,3,4"
   ],
   "cell_type": "markdown",
   "metadata": {}
  },
  {
   "source": [
    "## TOP DOWN"
   ],
   "cell_type": "markdown",
   "metadata": {}
  },
  {
   "cell_type": "code",
   "execution_count": 15,
   "metadata": {},
   "outputs": [],
   "source": [
    "def numberFactorTD(n,tempDict):\n",
    "    if n in (0,1,2):\n",
    "        return 1\n",
    "    elif n == 3:\n",
    "        return 2\n",
    "    else:\n",
    "        if n not in tempDict:\n",
    "            sub1 = numberFactorTD(n-1,tempDict)\n",
    "            sub2 = numberFactorTD(n-3,tempDict)\n",
    "            sub3 = numberFactorTD(n-4,tempDict)\n",
    "            tempDict[n] = sub1 + sub2 + sub3\n",
    "\n",
    "        return tempDict[n]"
   ]
  },
  {
   "cell_type": "code",
   "execution_count": 16,
   "metadata": {},
   "outputs": [
    {
     "output_type": "stream",
     "name": "stdout",
     "text": [
      "6\n"
     ]
    }
   ],
   "source": [
    "print(numberFactorTD(5,{}))"
   ]
  },
  {
   "source": [
    "## BOTTOM UP"
   ],
   "cell_type": "markdown",
   "metadata": {}
  },
  {
   "cell_type": "code",
   "execution_count": 17,
   "metadata": {},
   "outputs": [],
   "source": [
    "def numberFactorBU(n):\n",
    "    tempArr = [1,1,1,2]\n",
    "    for i in range(4,n+1):\n",
    "        tempArr.append(tempArr[i-1]+tempArr[i-3]+tempArr[i-4])\n",
    "    \n",
    "    return tempArr[n]\n"
   ]
  },
  {
   "cell_type": "code",
   "execution_count": 18,
   "metadata": {},
   "outputs": [
    {
     "output_type": "stream",
     "name": "stdout",
     "text": [
      "6\n"
     ]
    }
   ],
   "source": [
    "print(numberFactorBU(5))"
   ]
  },
  {
   "source": [
    "## House Rober\n",
    "    Given N number of houses along the stree with some amount of money\n",
    "    Adjacent houses cannot be stolen\n",
    "    Find the maximum amount that can be stolen"
   ],
   "cell_type": "markdown",
   "metadata": {}
  },
  {
   "source": [
    "## TOP DOWN"
   ],
   "cell_type": "markdown",
   "metadata": {}
  },
  {
   "cell_type": "code",
   "execution_count": 19,
   "metadata": {},
   "outputs": [],
   "source": [
    "def houseRoberTD(houses,currentIndex,tempDict={}):\n",
    "    if currentIndex >= len(houses):\n",
    "        return 0\n",
    "    else:\n",
    "        if currentIndex not in tempDict:\n",
    "            stealFirstHouse  = houses[currentIndex] + houseRoberTD(houses,currentIndex+2)\n",
    "            skipFirstHouse = houseRoberTD(houses, currentIndex+1)\n",
    "            tempDict[currentIndex] = max(stealFirstHouse, skipFirstHouse)\n",
    "        return tempDict[currentIndex]"
   ]
  },
  {
   "cell_type": "code",
   "execution_count": 20,
   "metadata": {},
   "outputs": [
    {
     "output_type": "stream",
     "name": "stdout",
     "text": [
      "41\n"
     ]
    }
   ],
   "source": [
    "house = [6,7,1,30,8,2,4]\n",
    "print(houseRoberTD(house,0,{}))"
   ]
  },
  {
   "source": [
    "## BOTTOM UP"
   ],
   "cell_type": "markdown",
   "metadata": {}
  },
  {
   "cell_type": "code",
   "execution_count": 21,
   "metadata": {},
   "outputs": [],
   "source": [
    "def houseRoberBU(houses):\n",
    "    tempArr = [0]*(len(houses)+2)\n",
    "    for i in range(len(houses)-1,-1,-1):\n",
    "        tempArr[i] = max(houses[i]+tempArr[i+2],tempArr[i+1])\n",
    "    return tempArr[0]\n"
   ]
  },
  {
   "cell_type": "code",
   "execution_count": 22,
   "metadata": {},
   "outputs": [
    {
     "output_type": "stream",
     "name": "stdout",
     "text": [
      "41\n"
     ]
    }
   ],
   "source": [
    "print(houseRoberBU(house))"
   ]
  }
 ]
}