{
 "metadata": {
  "language_info": {
   "codemirror_mode": {
    "name": "ipython",
    "version": 3
   },
   "file_extension": ".py",
   "mimetype": "text/x-python",
   "name": "python",
   "nbconvert_exporter": "python",
   "pygments_lexer": "ipython3",
   "version": "3.8.5-final"
  },
  "orig_nbformat": 2,
  "kernelspec": {
   "name": "python3",
   "display_name": "Python 3",
   "language": "python"
  }
 },
 "nbformat": 4,
 "nbformat_minor": 2,
 "cells": [
  {
   "source": [
    "# Day 1\n",
    "\n",
    "### Things learned\n",
    "    Dynamic Programming sums:\n",
    "    Number Factor"
   ],
   "cell_type": "markdown",
   "metadata": {}
  },
  {
   "source": [
    "## Number factor\n",
    "    No of ways to arrange N as sum of 1,3,4"
   ],
   "cell_type": "markdown",
   "metadata": {}
  },
  {
   "source": [
    "## TOP DOWN"
   ],
   "cell_type": "markdown",
   "metadata": {}
  },
  {
   "cell_type": "code",
   "execution_count": null,
   "metadata": {},
   "outputs": [],
   "source": [
    "def numberFactor(n,tempDict):\n",
    "    if n in (0,1,2):\n",
    "        return 1\n",
    "    elif n == 3:\n",
    "        return 2\n",
    "    else:\n",
    "        if n not in tempDict:\n",
    "            sub1 = numberFactor(n-1,tempDict)\n",
    "            sub2 = numberFactor(n-3,tempDict)\n",
    "            sub3 = numberFactor(n-4,tempDict)\n",
    "            tempDict[n] = sub1 + sub2 + sub3\n",
    "        return tempDict[n]"
   ]
  },
  {
   "cell_type": "code",
   "execution_count": null,
   "metadata": {},
   "outputs": [],
   "source": [
    "print(numberFactor(5,{}))"
   ]
  },
  {
   "source": [
    "## BOTTOM UP"
   ],
   "cell_type": "markdown",
   "metadata": {}
  },
  {
   "cell_type": "code",
   "execution_count": 6,
   "metadata": {},
   "outputs": [],
   "source": [
    "def numberFactor(n):\n",
    "    tempArr = [1,1,1,2]\n",
    "    for i in range(4,n+1):\n",
    "        tempArr.append(tempArr[i-1]+tempArr[i-3]+tempArr[i-4])\n",
    "    \n",
    "    return tempArr[n]\n"
   ]
  },
  {
   "cell_type": "code",
   "execution_count": 7,
   "metadata": {},
   "outputs": [
    {
     "output_type": "stream",
     "name": "stdout",
     "text": [
      "6\n"
     ]
    }
   ],
   "source": [
    "print(numberFactor(5))"
   ]
  },
  {
   "cell_type": "code",
   "execution_count": null,
   "metadata": {},
   "outputs": [],
   "source": []
  }
 ]
}