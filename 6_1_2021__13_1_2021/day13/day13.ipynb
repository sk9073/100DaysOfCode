{
 "metadata": {
  "language_info": {
   "codemirror_mode": {
    "name": "ipython",
    "version": 3
   },
   "file_extension": ".py",
   "mimetype": "text/x-python",
   "name": "python",
   "nbconvert_exporter": "python",
   "pygments_lexer": "ipython3",
   "version": "3.8.5-final"
  },
  "orig_nbformat": 2,
  "kernelspec": {
   "name": "python3",
   "display_name": "Python 3",
   "language": "python"
  }
 },
 "nbformat": 4,
 "nbformat_minor": 2,
 "cells": [
  {
   "source": [
    "### FIBONACCI EFFICIENT\n",
    "    Binet's Formula\n",
    "    "
   ],
   "cell_type": "markdown",
   "metadata": {}
  },
  {
   "cell_type": "code",
   "execution_count": 1,
   "metadata": {},
   "outputs": [
    {
     "output_type": "execute_result",
     "data": {
      "text/plain": [
       "8"
      ]
     },
     "metadata": {},
     "execution_count": 1
    }
   ],
   "source": [
    "def fibonaci(n):\n",
    "    sqrt5 = 5**0.5\n",
    "    alpha = (1+sqrt5)/2\n",
    "    beta  = (1-sqrt5)/2\n",
    "\n",
    "    return int(((alpha**n) - (beta**n))/sqrt5)\n",
    "fibonaci(6)"
   ]
  },
  {
   "source": [
    "## Dophomine equations\n",
    "    To check if given two numbers can be represented as a sum to the third one.\n",
    "    The integral solution exists if, GCD(a ,b) divides c."
   ],
   "cell_type": "markdown",
   "metadata": {}
  },
  {
   "cell_type": "code",
   "execution_count": 3,
   "metadata": {},
   "outputs": [
    {
     "output_type": "stream",
     "name": "stdout",
     "text": [
      "Not Possible\n"
     ]
    }
   ],
   "source": [
    "from math import gcd\n",
    "\n",
    "def isPossible(a, b, c): \n",
    "    return (c % gcd(a, b) == 0) \n",
    "  \n",
    "# Driver Code \n",
    "if __name__ == '__main__': \n",
    "    if (isPossible(6, 10, 9)): \n",
    "        print(\"Possible\") \n",
    "    else: \n",
    "        print(\"Not Possible\") "
   ]
  },
  {
   "cell_type": "code",
   "execution_count": null,
   "metadata": {},
   "outputs": [],
   "source": []
  }
 ]
}