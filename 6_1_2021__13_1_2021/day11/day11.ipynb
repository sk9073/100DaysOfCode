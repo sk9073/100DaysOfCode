{
 "metadata": {
  "language_info": {
   "codemirror_mode": {
    "name": "ipython",
    "version": 3
   },
   "file_extension": ".py",
   "mimetype": "text/x-python",
   "name": "python",
   "nbconvert_exporter": "python",
   "pygments_lexer": "ipython3",
   "version": "3.8.5-final"
  },
  "orig_nbformat": 2,
  "kernelspec": {
   "name": "python3",
   "display_name": "Python 3",
   "language": "python"
  }
 },
 "nbformat": 4,
 "nbformat_minor": 2,
 "cells": [
  {
   "source": [
    "# Day 10\n",
    "    Participated in code chef contest"
   ],
   "cell_type": "markdown",
   "metadata": {}
  },
  {
   "source": [
    "## ASTR2\n",
    "https://www.codechef.com/HELI2021/problems/ASTR2"
   ],
   "cell_type": "markdown",
   "metadata": {}
  },
  {
   "cell_type": "code",
   "execution_count": 1,
   "metadata": {},
   "outputs": [
    {
     "output_type": "stream",
     "name": "stdout",
     "text": [
      "[[5, 3], [4, 2, 5, 3, 9], [3, 3], [2, 5, 6]]\n28\n13\n"
     ]
    }
   ],
   "source": [
    "def cost(arr,N,K):\n",
    "    Sum = 0\n",
    "    arr.sort(reverse = True)\n",
    "    j = 0\n",
    "    fac = 1\n",
    "    for i in range(0,len(arr)):\n",
    "        if j == K:\n",
    "            j = 0\n",
    "            fac += 1\n",
    "        Sum = (Sum + arr[i]*(fac))%1000000007\n",
    "        j += 1\n",
    "    return Sum\n",
    "\n",
    "\n",
    "a = int(input())\n",
    "inp = []\n",
    "for _ in range(a*2):\n",
    "    inp.append([int(x) for x in input().split()])\n",
    "\n",
    "print(inp)\n",
    "\n",
    "for i in range(0,len(inp),2):\n",
    "    print(cost(inp[i+1],inp[i][0],inp[i][1]))\n"
   ]
  }
 ]
}