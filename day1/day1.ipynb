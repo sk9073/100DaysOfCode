{
 "metadata": {
  "language_info": {
   "codemirror_mode": {
    "name": "ipython",
    "version": 3
   },
   "file_extension": ".py",
   "mimetype": "text/x-python",
   "name": "python",
   "nbconvert_exporter": "python",
   "pygments_lexer": "ipython3",
   "version": "3.8.5-final"
  },
  "orig_nbformat": 2,
  "kernelspec": {
   "name": "python3",
   "display_name": "Python 3",
   "language": "python"
  }
 },
 "nbformat": 4,
 "nbformat_minor": 2,
 "cells": [
  {
   "source": [
    "# Day 1\n",
    "\n",
    "### Things learned\n",
    "    Seieve of Erasthosthes\n",
    "    Segmented Seive of Erasthosthes"
   ],
   "cell_type": "markdown",
   "metadata": {}
  },
  {
   "source": [
    "### Segmented Seive"
   ],
   "cell_type": "markdown",
   "metadata": {}
  },
  {
   "cell_type": "code",
   "execution_count": null,
   "metadata": {},
   "outputs": [],
   "source": [
    "from math import floor,sqrt\n",
    "\n",
    "def simpleSeive(limit,primes):\n",
    "    mark = [True]*(limit+1)\n",
    "\n",
    "    for i in range(2,limit+1):\n",
    "        if mark[i]:\n",
    "\n",
    "            #If not yet marked then its a prime\n",
    "            primes.append(i)\n",
    "            for j in range(i,limit+1,i):\n",
    "                mark[j] = False\n",
    "    return primes\n",
    "\n",
    "def primesInRange(low,high):\n",
    "    limit = floor(sqrt(high)) + 1\n",
    "    primes = list()\n",
    "    primes = simpleSeive(limit,primes)\n",
    "\n",
    "    n = high - low + 1 #try with 4-3 (for 1)\n",
    "    mark = [True]*(n+1)\n",
    "    for  i in range(len(primes)):\n",
    "        loLim = floor(low/primes[i])*primes[i]\n",
    "\n",
    "        if loLim < low:\n",
    "            loLim += primes[i]\n",
    "        if loLim == low:\n",
    "            loLim += primes[i]\n",
    "\n",
    "        for j in range(loLim,high+1,primes[i]):\n",
    "            if j != primes[i]:\n",
    "                mark[j-low] = False\n",
    "        \n",
    "    for i in range(low,high+1):\n",
    "        if  mark[i-low]:\n",
    "            print(i)\n",
    "\n",
    "primesInRange(2,100)"
   ]
  },
  {
   "source": [
    "### Seive of erathothes"
   ],
   "cell_type": "markdown",
   "metadata": {}
  },
  {
   "cell_type": "code",
   "execution_count": null,
   "metadata": {},
   "outputs": [],
   "source": [
    "def genPrime(n):\n",
    "    prime = [True for i in range(n+1)]\n",
    "    p = 2\n",
    "\n",
    "    while (p*p <= n):\n",
    "        if prime[p]:\n",
    "            for i in range(p*p,n+1,p):\n",
    "                prime[i] = False\n",
    "        p += 1\n",
    "\n",
    "    for p in range(2, n+1): \n",
    "        if prime[p]: \n",
    "            print(p)\n",
    "\n",
    "genPrime(6)"
   ]
  },
  {
   "cell_type": "code",
   "execution_count": null,
   "metadata": {},
   "outputs": [],
   "source": []
  }
 ]
}