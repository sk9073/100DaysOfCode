{
 "metadata": {
  "language_info": {
   "codemirror_mode": {
    "name": "ipython",
    "version": 3
   },
   "file_extension": ".py",
   "mimetype": "text/x-python",
   "name": "python",
   "nbconvert_exporter": "python",
   "pygments_lexer": "ipython3",
   "version": "3.8.5-final"
  },
  "orig_nbformat": 2,
  "kernelspec": {
   "name": "python3",
   "display_name": "Python 3",
   "language": "python"
  }
 },
 "nbformat": 4,
 "nbformat_minor": 2,
 "cells": [
  {
   "source": [
    "# DIVIDE AND CONQUER ALGORITHM:\n",
    "    sums:\n",
    "    1> ZERO ONE KNAPSACK\n",
    "    2> HLongest common subsequence\n",
    "\n",
    "# GREDDY ALGORITHM:\n",
    "    sums:\n",
    "    1>card for friends\n",
    "https://codeforces.com/contest/1472/problem/A\n",
    "    "
   ],
   "cell_type": "markdown",
   "metadata": {}
  },
  {
   "source": [
    "## ZERO ONE KNAPSACK\n"
   ],
   "cell_type": "markdown",
   "metadata": {}
  },
  {
   "cell_type": "code",
   "execution_count": null,
   "metadata": {},
   "outputs": [],
   "source": [
    "class Item:\n",
    "    def __init__(self, profit, weight):\n",
    "        self.profit = profit\n",
    "        self.weight = weight"
   ]
  },
  {
   "cell_type": "code",
   "execution_count": null,
   "metadata": {},
   "outputs": [],
   "source": [
    "def zoKnapsack(items, capacity, currentIndex):\n",
    "    if capacity <=0 or currentIndex < 0 or currentIndex >= len(items):\n",
    "        return 0\n",
    "    elif items[currentIndex].weight <= capacity:\n",
    "        profit1 = items[currentIndex].profit + zoKnapsack(items, capacity-items[currentIndex].weight, currentIndex+1)\n",
    "        profit2 = zoKnapsack(items, capacity, currentIndex+1)\n",
    "        return max(profit1, profit2)\n",
    "    else:\n",
    "        return 0"
   ]
  },
  {
   "cell_type": "code",
   "execution_count": null,
   "metadata": {},
   "outputs": [],
   "source": [
    "mango = Item(31, 3)\n",
    "apple = Item(26, 1)\n",
    "orange = Item(17, 2)\n",
    "banana = Item(72, 5)\n",
    "\n",
    "items = [mango, apple, orange, banana]\n",
    "\n",
    "print(zoKnapsack(items, 7, 0))"
   ]
  },
  {
   "source": [
    "## Longest common subsequence\n",
    "    S1 AND S2 are given two strings\n",
    "    Find the length of Longest common sub subsequence"
   ],
   "cell_type": "markdown",
   "metadata": {}
  },
  {
   "cell_type": "code",
   "execution_count": null,
   "metadata": {},
   "outputs": [],
   "source": [
    "def findLCS(s1, s2, index1, index2):\n",
    "    if index1 == len(s1) or index2 == len(s2):\n",
    "        return 0\n",
    "    if s1[index1] == s2[index2]:\n",
    "        return 1 + findLCS(s1, s2, index1+1, index2+1)\n",
    "    else:\n",
    "        op1 = findLCS(s1,s2, index1, index2+1)\n",
    "        op2 = findLCS(s1,s2, index1+1, index2)\n",
    "        return max(op1, op2)\n"
   ]
  },
  {
   "cell_type": "code",
   "execution_count": null,
   "metadata": {},
   "outputs": [],
   "source": [
    "print(findLCS(\"elephant\", \"eretpat\", 0, 0))"
   ]
  },
  {
   "source": [
    "## Cards for friends\n",
    "\n",
    "    "
   ],
   "cell_type": "markdown",
   "metadata": {}
  },
  {
   "cell_type": "code",
   "execution_count": null,
   "metadata": {},
   "outputs": [],
   "source": [
    "def cards(w,h,n):\n",
    "    if w == 1 and h == 1:\n",
    "        return n\n",
    "    else:\n",
    "        if not w % 2:            \n",
    "            return cards(w//2,h,n) + cards(w//2,h,n)\n",
    "        elif not h % 2:\n",
    "            return cards(w,h//2,n) + cards(w,h//2,n)\n",
    "        else: \n",
    "            return n\n",
    "    "
   ]
  },
  {
   "cell_type": "code",
   "execution_count": null,
   "metadata": {},
   "outputs": [],
   "source": [
    "a = int(input())\n",
    "inp = []\n",
    "for _ in range(a):\n",
    "    inp.append([int(x) for x in input().split()])\n",
    "\n",
    "for i in inp:\n",
    "    nos  = cards(i[0],i[1],1)\n",
    "    if nos >= i[2]:\n",
    "        print('YES')\n",
    "    else:\n",
    "        print('NO')"
   ]
  }
 ]
}