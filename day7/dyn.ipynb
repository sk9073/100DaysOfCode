{
 "metadata": {
  "language_info": {
   "codemirror_mode": {
    "name": "ipython",
    "version": 3
   },
   "file_extension": ".py",
   "mimetype": "text/x-python",
   "name": "python",
   "nbconvert_exporter": "python",
   "pygments_lexer": "ipython3",
   "version": "3.8.5-final"
  },
  "orig_nbformat": 2,
  "kernelspec": {
   "name": "python3",
   "display_name": "Python 3",
   "language": "python"
  }
 },
 "nbformat": 4,
 "nbformat_minor": 2,
 "cells": [
  {
   "source": [
    "# Things you learnt:\n",
    "    Top down memoization\n",
    "    Bottom up memoization"
   ],
   "cell_type": "markdown",
   "metadata": {}
  },
  {
   "source": [
    "## Why it is efficient?:\n",
    "    In divide and conquer its c^n time complexity while its linear in here"
   ],
   "cell_type": "markdown",
   "metadata": {}
  },
  {
   "source": [
    "## TOP DOWN MEMOIZATION\n",
    "    N'TH FIBONACCI TERM "
   ],
   "cell_type": "markdown",
   "metadata": {}
  },
  {
   "cell_type": "code",
   "execution_count": 1,
   "metadata": {},
   "outputs": [],
   "source": [
    "def fibMemo(n,mem):\n",
    "    if n==1 : \n",
    "        return 0\n",
    "    if n==2 : \n",
    "        return 1\n",
    "    if n not in mem:\n",
    "        mem[n] = fibMemo(n-1,mem) + fibMemo(n-2,mem)\n",
    "    return mem[n]\n",
    "    \n",
    "     "
   ]
  },
  {
   "cell_type": "code",
   "execution_count": 4,
   "metadata": {},
   "outputs": [
    {
     "output_type": "stream",
     "name": "stdout",
     "text": [
      "5\n"
     ]
    }
   ],
   "source": [
    "myDict = {}\n",
    "print(fibMemo(6,myDict))"
   ]
  },
  {
   "source": [
    "# BOTTOM UP MEMOIZATION\n",
    "    N'TH FIBONACCI ELEMENT"
   ],
   "cell_type": "markdown",
   "metadata": {}
  },
  {
   "cell_type": "code",
   "execution_count": 5,
   "metadata": {},
   "outputs": [],
   "source": [
    "def fib(n):\n",
    "    tb = [0,1]\n",
    "    for i in range(2,n+1):\n",
    "        tb.append(tb[i-1]+tb[i-2])\n",
    "    return tb[n-1]"
   ]
  },
  {
   "cell_type": "code",
   "execution_count": 7,
   "metadata": {},
   "outputs": [
    {
     "output_type": "execute_result",
     "data": {
      "text/plain": [
       "5"
      ]
     },
     "metadata": {},
     "execution_count": 7
    }
   ],
   "source": [
    "fib(6)"
   ]
  }
 ]
}