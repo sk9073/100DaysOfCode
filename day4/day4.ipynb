{
 "metadata": {
  "language_info": {
   "codemirror_mode": {
    "name": "ipython",
    "version": 3
   },
   "file_extension": ".py",
   "mimetype": "text/x-python",
   "name": "python",
   "nbconvert_exporter": "python",
   "pygments_lexer": "ipython3",
   "version": "3.8.5-final"
  },
  "orig_nbformat": 2,
  "kernelspec": {
   "name": "python3",
   "display_name": "Python 3",
   "language": "python"
  }
 },
 "nbformat": 4,
 "nbformat_minor": 2,
 "cells": [
  {
   "source": [
    "# THINGS LEARNED\n",
    "    Dynamic Programming:  \n",
    "        sums_solved\n",
    "        1) Activity Selection Problem \n",
    "        2) Coin Change Problem \n",
    "        "
   ],
   "cell_type": "markdown",
   "metadata": {}
  },
  {
   "source": [
    "## Activity Selection Problem\n",
    "\n",
    "\n",
    "    Selecting the maximun no of activities given the stat and end time\n"
   ],
   "cell_type": "markdown",
   "metadata": {}
  },
  {
   "cell_type": "code",
   "execution_count": 1,
   "metadata": {},
   "outputs": [],
   "source": [
    "def printMaxActivity(activities):\n",
    "    activities.sort(key = lambda x : x[2])\n",
    "    i = 0\n",
    "    firstA = activities[i][0]\n",
    "    print(firstA)\n",
    "    for j in range(len(activities)):\n",
    "        if activities[j][1] > activities[i][2]:\n",
    "            print(activities[j][0])\n",
    "            i = j\n",
    "\n"
   ]
  },
  {
   "cell_type": "code",
   "execution_count": 3,
   "metadata": {},
   "outputs": [
    {
     "output_type": "stream",
     "name": "stdout",
     "text": [
      "A3\nA2\nA5\nA6\n"
     ]
    }
   ],
   "source": [
    "activities = [[\"A1\", 0, 6],\n",
    "              [\"A2\", 3, 4],\n",
    "              [\"A3\", 1, 2],\n",
    "              [\"A4\", 5, 8],\n",
    "              [\"A5\", 5, 7],\n",
    "              [\"A6\", 8, 9]\n",
    "                ]\n",
    "                \n",
    "printMaxActivity(activities)"
   ]
  },
  {
   "source": [
    "## Coin Change Problem\n",
    "    Selecting minimum number of coins to get the given amount"
   ],
   "cell_type": "markdown",
   "metadata": {}
  },
  {
   "cell_type": "code",
   "execution_count": 4,
   "metadata": {},
   "outputs": [],
   "source": [
    "def coinChange(totalNumber, coins):\n",
    "    N = totalNumber\n",
    "    coins.sort()\n",
    "    index = len(coins)-1\n",
    "    while True:\n",
    "        coinValue = coins[index]\n",
    "        if N >= coinValue:\n",
    "            print(coinValue)\n",
    "            N = N - coinValue\n",
    "        if N < coinValue:\n",
    "            index -= 1\n",
    "        \n",
    "        if N == 0:\n",
    "            break"
   ]
  },
  {
   "cell_type": "code",
   "execution_count": 5,
   "metadata": {},
   "outputs": [
    {
     "output_type": "stream",
     "name": "stdout",
     "text": [
      "100\n100\n1\n"
     ]
    }
   ],
   "source": [
    "coins = [1,2,5,20,50,100]\n",
    "coinChange(201, coins)"
   ]
  }
 ]
}