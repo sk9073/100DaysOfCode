{
 "metadata": {
  "language_info": {
   "codemirror_mode": {
    "name": "ipython",
    "version": 3
   },
   "file_extension": ".py",
   "mimetype": "text/x-python",
   "name": "python",
   "nbconvert_exporter": "python",
   "pygments_lexer": "ipython3",
   "version": "3.8.5-final"
  },
  "orig_nbformat": 2,
  "kernelspec": {
   "name": "python3",
   "display_name": "Python 3",
   "language": "python"
  }
 },
 "nbformat": 4,
 "nbformat_minor": 2,
 "cells": [
  {
   "source": [
    "# THINGS LEARNED\n",
    "    Greedy Algorithm:  \n",
    "        sums_solved\n",
    "        1) Activity Selection Problem \n",
    "        2) Coin Change Problem \n",
    "        3) Fractional Knapsack Problem\n",
    "        "
   ],
   "cell_type": "markdown",
   "metadata": {}
  },
  {
   "source": [
    "## Activity Selection Problem\n",
    "\n",
    "\n",
    "    Selecting the maximun no of activities given the stat and end time\n"
   ],
   "cell_type": "markdown",
   "metadata": {}
  },
  {
   "cell_type": "code",
   "execution_count": 1,
   "metadata": {},
   "outputs": [],
   "source": [
    "def printMaxActivity(activities):\n",
    "    activities.sort(key = lambda x : x[2])\n",
    "    i = 0\n",
    "    firstA = activities[i][0]\n",
    "    print(firstA)\n",
    "    for j in range(len(activities)):\n",
    "        if activities[j][1] > activities[i][2]:\n",
    "            print(activities[j][0])\n",
    "            i = j\n",
    "\n"
   ]
  },
  {
   "cell_type": "code",
   "execution_count": 2,
   "metadata": {},
   "outputs": [
    {
     "output_type": "stream",
     "name": "stdout",
     "text": [
      "A3\nA2\nA5\nA6\n"
     ]
    }
   ],
   "source": [
    "activities = [[\"A1\", 0, 6],\n",
    "              [\"A2\", 3, 4],\n",
    "              [\"A3\", 1, 2],\n",
    "              [\"A4\", 5, 8],\n",
    "              [\"A5\", 5, 7],\n",
    "              [\"A6\", 8, 9]\n",
    "                ]\n",
    "                \n",
    "printMaxActivity(activities)"
   ]
  },
  {
   "source": [
    "## Coin Change Problem\n",
    "    Selecting minimum number of coins to get the given amount"
   ],
   "cell_type": "markdown",
   "metadata": {}
  },
  {
   "cell_type": "code",
   "execution_count": 3,
   "metadata": {},
   "outputs": [],
   "source": [
    "def coinChange(totalNumber, coins):\n",
    "    N = totalNumber\n",
    "    coins.sort()\n",
    "    index = len(coins)-1\n",
    "    while True:\n",
    "        coinValue = coins[index]\n",
    "        if N >= coinValue:\n",
    "            print(coinValue)\n",
    "            N = N - coinValue\n",
    "        if N < coinValue:\n",
    "            index -= 1\n",
    "        \n",
    "        if N == 0:\n",
    "            break"
   ]
  },
  {
   "cell_type": "code",
   "execution_count": 4,
   "metadata": {},
   "outputs": [
    {
     "output_type": "stream",
     "name": "stdout",
     "text": [
      "100\n",
      "100\n",
      "1\n"
     ]
    }
   ],
   "source": [
    "coins = [1,2,5,20,50,100]\n",
    "coinChange(201, coins)"
   ]
  },
  {
   "source": [
    "## Fractional Knapsack Problem\n",
    "    Given weights and values of n items, we need to put these items in a knapsack of capacity W,\n",
    "    To get the maximum total value in the knapsack."
   ],
   "cell_type": "markdown",
   "metadata": {}
  },
  {
   "cell_type": "code",
   "execution_count": 5,
   "metadata": {},
   "outputs": [],
   "source": [
    "class item:\n",
    "    def __init__(self, weight, value):\n",
    "        self.weight = weight\n",
    "        self.value = value\n",
    "        self.ratio = value / weight\n",
    "    \n"
   ]
  },
  {
   "cell_type": "code",
   "execution_count": 6,
   "metadata": {},
   "outputs": [],
   "source": [
    "def Knapsack(items,capacity):\n",
    "    items.sort(key=lambda x : x.ratio, reverse = True)\n",
    "    usedCapacity = 0\n",
    "    totalValue = 0\n",
    "\n",
    "    for i in items:\n",
    "        if usedCapacity + i.weight <= capacity:\n",
    "            usedCapacity += i.weight\n",
    "            totalValue += i.value\n",
    "        else:\n",
    "            unusedCapacity  = capacity - usedCapacity\n",
    "            value = i.ratio*unusedCapacity\n",
    "            usedCapacity += unusedCapacity\n",
    "            totalValue += value  \n",
    "\n",
    "        if usedCapacity == capacity:\n",
    "            break\n",
    "    print(\"Total value obtained: \"+str(totalValue))\n",
    "   "
   ]
  },
  {
   "cell_type": "code",
   "execution_count": 7,
   "metadata": {},
   "outputs": [
    {
     "output_type": "stream",
     "name": "stdout",
     "text": [
      "Total value obtained: 240.0\n"
     ]
    }
   ],
   "source": [
    "item1 = item(20,100)\n",
    "item2 = item(30,120)\n",
    "item3 = item(10,60)\n",
    "cList = [item1, item2, item3]\n",
    "\n",
    "Knapsack(cList, 50)"
   ]
  }
 ]
}