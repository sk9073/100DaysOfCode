{
 "metadata": {
  "language_info": {
   "codemirror_mode": {
    "name": "ipython",
    "version": 3
   },
   "file_extension": ".py",
   "mimetype": "text/x-python",
   "name": "python",
   "nbconvert_exporter": "python",
   "pygments_lexer": "ipython3",
   "version": "3.8.5-final"
  },
  "orig_nbformat": 2,
  "kernelspec": {
   "name": "python3",
   "display_name": "Python 3",
   "language": "python"
  }
 },
 "nbformat": 4,
 "nbformat_minor": 2,
 "cells": [
  {
   "source": [
    "# DIVIDE AND CONQUER ALGORITHM:\n",
    "    sums:\n",
    "    1> NUMBER FACTOR\n",
    "    2> HOUSE ROBER\n",
    "    3> STRING CONVERSION"
   ],
   "cell_type": "markdown",
   "metadata": {}
  },
  {
   "source": [
    "## Number factor\n",
    "    No of ways to arrange N as sum of 1,3,4"
   ],
   "cell_type": "markdown",
   "metadata": {}
  },
  {
   "cell_type": "code",
   "execution_count": 1,
   "metadata": {},
   "outputs": [],
   "source": [
    "def numberFactor(n):\n",
    "    if n in (0,1,2):\n",
    "        return 1\n",
    "    elif n == 3:\n",
    "        return 2\n",
    "    else:\n",
    "        subP1 = numberFactor(n-1)\n",
    "        subP2 = numberFactor(n-3)\n",
    "        subP3 = numberFactor(n-4)\n",
    "        return subP1+subP2+subP3"
   ]
  },
  {
   "cell_type": "code",
   "execution_count": 2,
   "metadata": {},
   "outputs": [
    {
     "output_type": "stream",
     "name": "stdout",
     "text": [
      "6\n"
     ]
    }
   ],
   "source": [
    "print(numberFactor(5))"
   ]
  },
  {
   "source": [
    "## House Rober\n",
    "    Given N number of houses along the stree with some amount of money\n",
    "    Adjacent houses cannot be stolen\n",
    "    Find the maximum amount that can be stolen"
   ],
   "cell_type": "markdown",
   "metadata": {}
  },
  {
   "cell_type": "code",
   "execution_count": 3,
   "metadata": {},
   "outputs": [],
   "source": [
    "def houseRobber(houses, currentIndex):\n",
    "    if currentIndex >= len(houses):\n",
    "        return 0\n",
    "    else:\n",
    "        stealFirstHouse  = houses[currentIndex] + houseRobber(houses,currentIndex+2)\n",
    "        skipFirstHouse = houseRobber(houses, currentIndex+1)\n",
    "        return max(stealFirstHouse, skipFirstHouse)"
   ]
  },
  {
   "cell_type": "code",
   "execution_count": 4,
   "metadata": {},
   "outputs": [
    {
     "output_type": "stream",
     "name": "stdout",
     "text": [
      "41\n"
     ]
    }
   ],
   "source": [
    "houses = [6,7,1,30,8,2,4]\n",
    "print(houseRobber(houses, 0))"
   ]
  },
  {
   "source": [
    "## Convert One string to another\n",
    "    S1 and S2 are two strings\n",
    "    Conert S2 to S1 using delte, insert or replace operations\n",
    "    Find the minimum count of edit Operations.\n",
    "\n",
    "    "
   ],
   "cell_type": "markdown",
   "metadata": {}
  },
  {
   "cell_type": "code",
   "execution_count": 5,
   "metadata": {},
   "outputs": [],
   "source": [
    "def findMinOperation(s1, s2, index1, index2):\n",
    "    if index1 == len(s1):\n",
    "        return len(s2)-index2\n",
    "    if index2 == len(s2):\n",
    "        return len(s1)-index1\n",
    "    if s1[index1] == s2[index2]:\n",
    "        return findMinOperation(s1, s2, index1+1, index2+1)\n",
    "    else:\n",
    "        deleteOp = 1 + findMinOperation(s1, s2, index1, index2+1)\n",
    "        insertOp = 1 + findMinOperation(s1, s2, index1+1, index2)\n",
    "        replaceOp = 1 + findMinOperation(s1, s2, index1+1, index2+1)\n",
    "        return min (deleteOp, insertOp, replaceOp)"
   ]
  },
  {
   "cell_type": "code",
   "execution_count": 6,
   "metadata": {},
   "outputs": [
    {
     "output_type": "stream",
     "name": "stdout",
     "text": [
      "4\n"
     ]
    }
   ],
   "source": [
    "print(findMinOperation(\"table\", \"tbrltt\", 0, 0))"
   ]
  }
 ]
}