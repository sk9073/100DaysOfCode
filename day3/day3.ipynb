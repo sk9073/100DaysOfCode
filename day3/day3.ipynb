{
 "metadata": {
  "language_info": {
   "codemirror_mode": {
    "name": "ipython",
    "version": 3
   },
   "file_extension": ".py",
   "mimetype": "text/x-python",
   "name": "python",
   "nbconvert_exporter": "python",
   "pygments_lexer": "ipython3",
   "version": "3.8.5-final"
  },
  "orig_nbformat": 2,
  "kernelspec": {
   "name": "python3",
   "display_name": "Python 3",
   "language": "python"
  }
 },
 "nbformat": 4,
 "nbformat_minor": 2,
 "cells": [
  {
   "source": [
    "# THINGS LEARNED\n",
    "    MERGE SORT \n",
    "    BINARY SEARCH"
   ],
   "cell_type": "markdown",
   "metadata": {}
  },
  {
   "source": [
    "### BINARY SEARCH"
   ],
   "cell_type": "markdown",
   "metadata": {}
  },
  {
   "cell_type": "code",
   "execution_count": 4,
   "metadata": {},
   "outputs": [
    {
     "output_type": "execute_result",
     "data": {
      "text/plain": [
       "2"
      ]
     },
     "metadata": {},
     "execution_count": 4
    }
   ],
   "source": [
    "def binarySearch(arr,x):\n",
    "    low = mid =0\n",
    "    high = len(arr) -0 \n",
    "    \n",
    "    while low <= high:\n",
    "        mid = (high+low)//2\n",
    "\n",
    "        if arr[mid] < x:\n",
    "            low = mid + 1\n",
    "        \n",
    "        elif arr[mid] > x:\n",
    "            high = mid -1\n",
    "\n",
    "        else:\n",
    "            return mid\n",
    "        \n",
    "    return -1\n",
    "\n",
    "binarySearch([1,2,3,4,5,6,7,8,9],3)"
   ]
  },
  {
   "source": [
    "### MERGE SORT"
   ],
   "cell_type": "markdown",
   "metadata": {}
  },
  {
   "cell_type": "code",
   "execution_count": 3,
   "metadata": {},
   "outputs": [
    {
     "output_type": "execute_result",
     "data": {
      "text/plain": [
       "[1, 2, 3, 5, 6, 7, 89]"
      ]
     },
     "metadata": {},
     "execution_count": 3
    }
   ],
   "source": [
    "def merge(values):\n",
    "    if len(values) > 1:\n",
    "\n",
    "        mid = len(values)//2\n",
    "        left= values[:mid]\n",
    "        right = values[mid:]\n",
    "\n",
    "        left = merge(left)\n",
    "        right = merge(right)\n",
    "\n",
    "        values = []\n",
    "        while len(left) > 0 and len(right)>0:\n",
    "            if left[0] < right[0]:\n",
    "                values.append(left[0])\n",
    "                left.pop(0)\n",
    "            else:\n",
    "                values.append(right[0])\n",
    "                right.pop(0)\n",
    "\n",
    "        for i in right:\n",
    "            values.append(i)\n",
    "            \n",
    "        for i in left:\n",
    "            values.append(i)\n",
    "\n",
    "    return values\n",
    "\n",
    "merge([1,5,6,7,89,3,2])"
   ]
  },
  {
   "cell_type": "code",
   "execution_count": null,
   "metadata": {},
   "outputs": [],
   "source": []
  }
 ]
}