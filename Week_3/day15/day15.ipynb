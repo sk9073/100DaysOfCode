{
 "metadata": {
  "language_info": {
   "codemirror_mode": {
    "name": "ipython",
    "version": 3
   },
   "file_extension": ".py",
   "mimetype": "text/x-python",
   "name": "python",
   "nbconvert_exporter": "python",
   "pygments_lexer": "ipython3",
   "version": "3.8.5-final"
  },
  "orig_nbformat": 2,
  "kernelspec": {
   "name": "python3",
   "display_name": "Python 3",
   "language": "python"
  }
 },
 "nbformat": 4,
 "nbformat_minor": 2,
 "cells": [
  {
   "source": [
    "# Did the sum : \n",
    "\n",
    "## Cards For Friend\n",
    "https://codeforces.com/problemset/problem/1472/A\n",
    "\n",
    "## Red and Blue\n",
    "https://codeforces.com/contest/1469/problem/B"
   ],
   "cell_type": "markdown",
   "metadata": {}
  },
  {
   "source": [
    "### USING GREEDY O(2^N)"
   ],
   "cell_type": "markdown",
   "metadata": {}
  },
  {
   "cell_type": "code",
   "execution_count": null,
   "metadata": {},
   "outputs": [],
   "source": [
    "def cards(w,h,n):\n",
    "    if w == 1 and h == 1:\n",
    "        return n\n",
    "    else:\n",
    "        if not w % 2:            \n",
    "            return cards(w//2,h,n) + cards(w//2,h,n)\n",
    "        elif not h % 2:\n",
    "            return cards(w,h//2,n) + cards(w,h//2,n)\n",
    "        else: \n",
    "            return n\n",
    "    \n",
    " \n",
    "a = int(input())\n",
    "inp = []\n",
    "for _ in range(a):\n",
    "    inp.append([int(x) for x in input().split()])\n",
    " \n",
    "for i in inp:\n",
    "    nos  = cards(i[0],i[1],1)\n",
    "    if nos >= i[2]:\n",
    "        print('YES')\n",
    "    else:\n",
    "        print('NO')"
   ]
  },
  {
   "source": [
    "### USING BIT MANIPULATION AND GREEDY O(1)"
   ],
   "cell_type": "markdown",
   "metadata": {}
  },
  {
   "cell_type": "code",
   "execution_count": null,
   "metadata": {},
   "outputs": [],
   "source": [
    "k = int(input())\n",
    "for _ in range(k):\n",
    "    a, b, n = map(int, input().split())\n",
    "    print('NO') if a * b & - a * b < n else print(\"YES\")"
   ]
  },
  {
   "cell_type": "code",
   "execution_count": null,
   "metadata": {},
   "outputs": [],
   "source": [
    "def kadane(arr):\n",
    "    sums = 0 \n",
    "    maxs = 0\n",
    "    for i in range(0,len(arr)):\n",
    "        arr[i] = sums + arr[i]\n",
    "        sums = arr[i]\n",
    "        if arr[i] > maxs:\n",
    "            maxs = arr[i]\n",
    "         \n",
    "    return maxs\n",
    " \n",
    " \n",
    "a = int(input())\n",
    "inp = []\n",
    "for _ in range(a*4):\n",
    "    inp.append([int(x) for x in input().split()])\n",
    " \n",
    "for i in range(0,len(inp),4):\n",
    "    \n",
    "    sum1 = kadane(inp[i+1])\n",
    "    sum2 = kadane(inp[i+3])\n",
    "    print(sum1 + sum2)"
   ]
  }
 ]
}