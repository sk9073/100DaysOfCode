{
 "metadata": {
  "language_info": {
   "codemirror_mode": {
    "name": "ipython",
    "version": 3
   },
   "file_extension": ".py",
   "mimetype": "text/x-python",
   "name": "python",
   "nbconvert_exporter": "python",
   "pygments_lexer": "ipython3",
   "version": 3
  },
  "orig_nbformat": 2
 },
 "nbformat": 4,
 "nbformat_minor": 2,
 "cells": [
  {
   "source": [
    "## Regular Bracket Sequence\n",
    "\n",
    "https://codeforces.com/contest/1469/problem/A"
   ],
   "cell_type": "markdown",
   "metadata": {}
  },
  {
   "cell_type": "code",
   "execution_count": null,
   "metadata": {},
   "outputs": [],
   "source": [
    "def match(arr):\n",
    "    length = len(arr)\n",
    "    if (arr[0] == ')' or arr[-1] == '(' or length % 2):\n",
    "        print('No')\n",
    "    else:\n",
    "        print('Yes')\n",
    " \n",
    "a = int(input())\n",
    "inp = []\n",
    "for _ in range(a):\n",
    "    inp.append([x for x in input().split()])\n",
    " \n",
    "for i in inp:\n",
    "    match(i[0])"
   ]
  },
  {
   "source": [
    "## Waste Sorting\n",
    "\n",
    "https://codeforces.com/contest/1468/problem/N"
   ],
   "cell_type": "markdown",
   "metadata": {}
  },
  {
   "cell_type": "code",
   "execution_count": null,
   "metadata": {},
   "outputs": [],
   "source": [
    "for t in range(int(input())):\n",
    "    c=list(map(int,input().split()))\n",
    "    a=list(map(int,input().split()))\n",
    "    if c[0]>=a[0] and c[1]>=a[1] and c[2]>=a[2] and c[0]+c[2]>=a[0]+a[2]+a[3] and c[1]+c[2]>=a[1]+a[2]+a[4] and sum(c)>=sum(a):\n",
    "        print('YES')\n",
    "    else:\n",
    "        print('NO')"
   ]
  },
  {
   "cell_type": "code",
   "execution_count": null,
   "metadata": {},
   "outputs": [],
   "source": []
  }
 ]
}