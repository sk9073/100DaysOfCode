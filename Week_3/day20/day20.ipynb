{
 "metadata": {
  "language_info": {
   "codemirror_mode": {
    "name": "ipython",
    "version": 3
   },
   "file_extension": ".py",
   "mimetype": "text/x-python",
   "name": "python",
   "nbconvert_exporter": "python",
   "pygments_lexer": "ipython3",
   "version": "3.8.5-final"
  },
  "orig_nbformat": 2,
  "kernelspec": {
   "name": "python3",
   "display_name": "Python 3",
   "language": "python"
  }
 },
 "nbformat": 4,
 "nbformat_minor": 2,
 "cells": [
  {
   "source": [
    "# Binary Tree (Linked List) \n",
    "    Insertion\n",
    "    Searching"
   ],
   "cell_type": "markdown",
   "metadata": {}
  },
  {
   "cell_type": "code",
   "execution_count": 1,
   "metadata": {},
   "outputs": [],
   "source": [
    "def searchBT(root,value):\n",
    "    if root is None:\n",
    "        return\n",
    "    queue = []\n",
    "    queue.append(root)\n",
    "\n",
    "    while len(queue) > 0:\n",
    "        \n",
    "        node = queue.pop(0)\n",
    "        if node.data == value:\n",
    "            return \"Success\"\n",
    "\n",
    "        if node.leftChild:\n",
    "            queue.append(node.leftChild)\n",
    "\n",
    "        if node.rightChild:\n",
    "            queue.append(node.rightChild)"
   ]
  },
  {
   "cell_type": "code",
   "execution_count": 2,
   "metadata": {},
   "outputs": [],
   "source": [
    "def insertBT(root,newNode):\n",
    "    if root is None:\n",
    "        root = newNode\n",
    "    else:\n",
    "        queue = []\n",
    "        queue.append(root)\n",
    "\n",
    "        while len(queue) > 0:\n",
    "            \n",
    "            node = queue.pop(0)\n",
    "\n",
    "            if node.leftChild:\n",
    "                queue.append(node.leftChild)\n",
    "            else:\n",
    "                root.leftChild = newNode\n",
    "                return \"Success\"\n",
    "\n",
    "            if node.rightChild:\n",
    "                queue.append(node.rightChild)\n",
    "            else:\n",
    "                root.rightChild = newNode\n",
    "                return \"Suu\""
   ]
  }
 ]
}