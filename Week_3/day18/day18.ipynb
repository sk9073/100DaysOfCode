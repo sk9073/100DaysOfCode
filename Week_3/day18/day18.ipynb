{
 "metadata": {
  "language_info": {
   "codemirror_mode": {
    "name": "ipython",
    "version": 3
   },
   "file_extension": ".py",
   "mimetype": "text/x-python",
   "name": "python",
   "nbconvert_exporter": "python",
   "pygments_lexer": "ipython3",
   "version": 3
  },
  "orig_nbformat": 2
 },
 "nbformat": 4,
 "nbformat_minor": 2,
 "cells": [
  {
   "source": [
    "## Even-Odd Game\n",
    "\n",
    "    Dynamic programming\n",
    "    Sorting\n",
    "    Greedy\n",
    "https://codeforces.com/problemset/problem/1472/D"
   ],
   "cell_type": "markdown",
   "metadata": {}
  },
  {
   "cell_type": "code",
   "execution_count": null,
   "metadata": {},
   "outputs": [],
   "source": [
    "Gamet = int(input())\n",
    "for tt in range(t):\n",
    "\tn = int(input())\n",
    "\tf = list(map(int, input().split()))\n",
    "\tf.sort()\n",
    "\ta = 0\n",
    "\tb = 0\n",
    "\tfor i in range(n):\n",
    "\t\tif f[-1] % 2 == 0:\n",
    "\t\t\tif i % 2 == 0:\n",
    "\t\t\t\ta += f[-1]\n",
    "\t\telse:\n",
    "\t\t\tif i % 2 != 0:\n",
    "\t\t\t\tb += f[-1]\n",
    "\t\tf.pop()\n",
    "\tif a > b:\n",
    "\t\tprint(\"Alice\")\n",
    "\telif b > a:\n",
    "\t\tprint(\"Bob\")\n",
    "\telse:\n",
    "\t\tprint(\"Tie\")"
   ]
  }
 ]
}