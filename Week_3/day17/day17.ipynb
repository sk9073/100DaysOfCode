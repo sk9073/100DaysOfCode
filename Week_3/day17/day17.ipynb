{
 "metadata": {
  "language_info": {
   "codemirror_mode": {
    "name": "ipython",
    "version": 3
   },
   "file_extension": ".py",
   "mimetype": "text/x-python",
   "name": "python",
   "nbconvert_exporter": "python",
   "pygments_lexer": "ipython3",
   "version": "3.8.5-final"
  },
  "orig_nbformat": 2,
  "kernelspec": {
   "name": "python3",
   "display_name": "Python 3",
   "language": "python"
  }
 },
 "nbformat": 4,
 "nbformat_minor": 2,
 "cells": [
  {
   "source": [
    "## Replacing Elements\n",
    "    Greedy\n",
    "    Sorting\n",
    "https://codeforces.com/contest/1473/problem/A"
   ],
   "cell_type": "markdown",
   "metadata": {}
  },
  {
   "cell_type": "code",
   "execution_count": null,
   "metadata": {},
   "outputs": [],
   "source": [
    "for t in range(int(input())):\n",
    "    n,d = map(int, input().split())\n",
    "    arr = list(map(int,input().split()))\n",
    "    arr.sort()\n",
    "    if arr[-1] <= d or (arr[0]+arr[1] <=d):\n",
    "        print('YES')\n",
    "        continue\n",
    "    else:\n",
    "        print('NO')"
   ]
  },
  {
   "source": [
    "## Fair Division\n",
    "    Greedy\n",
    "    Math\n",
    "https://codeforces.com/problemset/problem/1472/B"
   ],
   "cell_type": "markdown",
   "metadata": {}
  },
  {
   "cell_type": "code",
   "execution_count": null,
   "metadata": {},
   "outputs": [],
   "source": [
    "for _ in range(int(input())):\n",
    "    input()\n",
    "    grams=list(input().split())\n",
    "    a=grams.count(\"1\")\n",
    "    b=grams.count(\"2\")\n",
    "    if a&1 or (b&1 and a<2):print(\"NO\")\n",
    "    else:print(\"YES\")"
   ]
  }
 ]
}