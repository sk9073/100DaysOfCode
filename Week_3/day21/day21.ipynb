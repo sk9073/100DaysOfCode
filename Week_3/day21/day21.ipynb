{
 "metadata": {
  "language_info": {
   "codemirror_mode": {
    "name": "ipython",
    "version": 3
   },
   "file_extension": ".py",
   "mimetype": "text/x-python",
   "name": "python",
   "nbconvert_exporter": "python",
   "pygments_lexer": "ipython3",
   "version": "3.8.5-final"
  },
  "orig_nbformat": 2,
  "kernelspec": {
   "name": "python3",
   "display_name": "Python 3",
   "language": "python"
  }
 },
 "nbformat": 4,
 "nbformat_minor": 2,
 "cells": [
  {
   "source": [
    "## Deleting a Node"
   ],
   "cell_type": "markdown",
   "metadata": {}
  },
  {
   "cell_type": "code",
   "execution_count": 7,
   "metadata": {},
   "outputs": [],
   "source": [
    "class TreeNode:\n",
    "    def __init__(self,data):\n",
    "        self.data = data\n",
    "        self.leftChild = None\n",
    "        self.rightChild = None\n",
    "        "
   ]
  },
  {
   "cell_type": "code",
   "execution_count": 8,
   "metadata": {},
   "outputs": [],
   "source": [
    "def levelOrder(root):\n",
    "    if root is None:\n",
    "        return\n",
    "    queue = []\n",
    "    queue.append(root)\n",
    "\n",
    "    while len(queue) > 0:\n",
    "        print(queue[0].data)\n",
    "        node = queue.pop(0)\n",
    "\n",
    "        if node.leftChild:\n",
    "            queue.append(node.leftChild)\n",
    "\n",
    "        if node.rightChild:\n",
    "            queue.append(node.rightChild)"
   ]
  },
  {
   "cell_type": "code",
   "execution_count": 9,
   "metadata": {},
   "outputs": [],
   "source": [
    "newBT = TreeNode(\"Drinks\")\n",
    "left  = TreeNode(\"Hot\")\n",
    "right = TreeNode(\"cold\")\n",
    "tea   = TreeNode(\"tea\")\n",
    "coffee= TreeNode(\"coffee\")\n",
    "milk  = TreeNode(\"milkshake\")\n",
    "newBT.leftChild = left\n",
    "newBT.rightChild= right\n",
    "left.leftChild  = tea\n",
    "left.rightChild = coffee\n",
    "right.leftChild = milk"
   ]
  },
  {
   "cell_type": "code",
   "execution_count": 10,
   "metadata": {},
   "outputs": [],
   "source": [
    "def getDeepest(root):\n",
    "    if root is None:\n",
    "        return\n",
    "    else:\n",
    "        queue = []\n",
    "        queue.append(root)\n",
    "        while len(queue) > 0:\n",
    "            \n",
    "            node = queue.pop(0)\n",
    "\n",
    "            if node.leftChild:\n",
    "                queue.append(node.leftChild)\n",
    "\n",
    "            if node.rightChild:\n",
    "                queue.append(node.rightChild)\n",
    "        return node"
   ]
  },
  {
   "cell_type": "code",
   "execution_count": 11,
   "metadata": {},
   "outputs": [],
   "source": [
    "def deleteDeepest(root,dnode):\n",
    "    if root is None:\n",
    "        return\n",
    "    else:\n",
    "        queue = []\n",
    "        queue.append(root)\n",
    "        while len(queue)>0:\n",
    "            node = queue.pop(0)\n",
    "\n",
    "            if node is dnode:\n",
    "                root = None\n",
    "                return\n",
    "            if node.rightChild:    \n",
    "                if node.rightChild is dnode:\n",
    "                    node.rightChild = None\n",
    "                    return\n",
    "                else:\n",
    "                    queue.append(node.rightChild)\n",
    "            \n",
    "            if node.leftChild:\n",
    "                if node.leftChild is dnode:\n",
    "                    node.leftChild = None\n",
    "                    return\n",
    "                else:\n",
    "                    queue.append(node.leftChild)"
   ]
  },
  {
   "cell_type": "code",
   "execution_count": 12,
   "metadata": {},
   "outputs": [],
   "source": [
    "def deleteNodeBT(root,dnode):\n",
    "    if root is None:\n",
    "        return \"BT Does not exist\"\n",
    "    else:\n",
    "        queue = []\n",
    "        queue.append(root)\n",
    "        while len(queue) > 0:\n",
    "            \n",
    "            node = queue.pop(0)\n",
    "            if node.data == dnode:\n",
    "                dNode = getDeepest(root)\n",
    "                node.data = dNode.data\n",
    "                deleteDeepest(root,dNode)\n",
    "                return \"Node has been deleted\"\n",
    "\n",
    "            if node.leftChild:\n",
    "                queue.append(node.leftChild)\n",
    "\n",
    "            if node.rightChild:\n",
    "                queue.append(node.rightChild)\n",
    "        return node"
   ]
  },
  {
   "cell_type": "code",
   "execution_count": 13,
   "metadata": {},
   "outputs": [
    {
     "output_type": "stream",
     "name": "stdout",
     "text": [
      "Drinks\nHot\ncold\ntea\ncoffee\nmilkshake\n"
     ]
    }
   ],
   "source": [
    "levelOrder(newBT)"
   ]
  },
  {
   "cell_type": "code",
   "execution_count": 14,
   "metadata": {},
   "outputs": [
    {
     "output_type": "execute_result",
     "data": {
      "text/plain": [
       "'Node has been deleted'"
      ]
     },
     "metadata": {},
     "execution_count": 14
    }
   ],
   "source": [
    "deleteNodeBT(newBT,\"tea\")"
   ]
  },
  {
   "cell_type": "code",
   "execution_count": 15,
   "metadata": {},
   "outputs": [
    {
     "output_type": "stream",
     "name": "stdout",
     "text": [
      "Drinks\nHot\ncold\nmilkshake\ncoffee\n"
     ]
    }
   ],
   "source": [
    "levelOrder(newBT)"
   ]
  }
 ]
}