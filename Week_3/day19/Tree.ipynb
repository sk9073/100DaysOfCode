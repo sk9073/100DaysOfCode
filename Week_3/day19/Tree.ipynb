{
 "metadata": {
  "language_info": {
   "codemirror_mode": {
    "name": "ipython",
    "version": 3
   },
   "file_extension": ".py",
   "mimetype": "text/x-python",
   "name": "python",
   "nbconvert_exporter": "python",
   "pygments_lexer": "ipython3",
   "version": "3.8.5-final"
  },
  "orig_nbformat": 2,
  "kernelspec": {
   "name": "python3",
   "display_name": "Python 3",
   "language": "python"
  }
 },
 "nbformat": 4,
 "nbformat_minor": 2,
 "cells": [
  {
   "source": [
    "# Binary Tree (Linked List) \n",
    "    Creating A Tree Node\n",
    "    PreOrder Traversal\n",
    "    InOrder Traversal\n",
    "    PostOrder Traversal"
   ],
   "cell_type": "markdown",
   "metadata": {}
  },
  {
   "cell_type": "code",
   "execution_count": 1,
   "metadata": {},
   "outputs": [],
   "source": [
    "class TreeNode:\n",
    "    def __init__(self,data):\n",
    "        self.data = data\n",
    "        self.leftChild = None\n",
    "        self.rightChild = None\n",
    "        "
   ]
  },
  {
   "cell_type": "code",
   "execution_count": 2,
   "metadata": {},
   "outputs": [],
   "source": [
    "newBT = TreeNode(\"Drinks\")\n",
    "left  = TreeNode(\"Hot\")\n",
    "right = TreeNode(\"cold\")\n",
    "tea   = TreeNode(\"tea\")\n",
    "coffee= TreeNode(\"coffee\")\n",
    "milk  = TreeNode(\"milkshake\")\n",
    "newBT.leftChild = left\n",
    "newBT.rightChild= right\n",
    "left.leftChild  = tea\n",
    "left.rightChild = coffee\n",
    "right.leftChild = milk"
   ]
  },
  {
   "source": [
    "### Traversal info\n",
    "    PreOrder   : root,left,right\n",
    "    inOrder    : left,root,right\n",
    "    postOrder  : left,right,root"
   ],
   "cell_type": "markdown",
   "metadata": {}
  },
  {
   "cell_type": "code",
   "execution_count": 3,
   "metadata": {},
   "outputs": [],
   "source": [
    "def preOrder(root):\n",
    "    if not root:\n",
    "        return\n",
    "    print(root.data)\n",
    "    preOrder(root.leftChild)\n",
    "    preOrder(root.rightChild)\n"
   ]
  },
  {
   "cell_type": "code",
   "execution_count": 4,
   "metadata": {},
   "outputs": [],
   "source": [
    "def inOrder(root):\n",
    "    if not root:\n",
    "        return\n",
    "    inOrder(root.leftChild)\n",
    "    print(root.data)\n",
    "    inOrder(root.rightChild)"
   ]
  },
  {
   "cell_type": "code",
   "execution_count": 5,
   "metadata": {},
   "outputs": [],
   "source": [
    "def postOrder(root):\n",
    "    if not root:\n",
    "        return\n",
    "    postOrder(root.leftChild)\n",
    "    postOrder(root.rightChild)\n",
    "    print(root.data)"
   ]
  },
  {
   "cell_type": "code",
   "execution_count": 7,
   "metadata": {},
   "outputs": [],
   "source": [
    "def levelOrder(root):\n",
    "    if root is None:\n",
    "        return\n",
    "    queue = []\n",
    "    queue.append(root)\n",
    "\n",
    "    while len(queue) > 0:\n",
    "        print(queue[0].data)\n",
    "        node = queue.pop(0)\n",
    "\n",
    "        if node.leftChild:\n",
    "            queue.append(node.leftChild)\n",
    "\n",
    "        if node.rightChild:\n",
    "            queue.append(node.rightChild)\n"
   ]
  },
  {
   "cell_type": "code",
   "execution_count": null,
   "metadata": {},
   "outputs": [],
   "source": []
  }
 ]
}