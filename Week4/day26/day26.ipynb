{
 "metadata": {
  "language_info": {
   "codemirror_mode": {
    "name": "ipython",
    "version": 3
   },
   "file_extension": ".py",
   "mimetype": "text/x-python",
   "name": "python",
   "nbconvert_exporter": "python",
   "pygments_lexer": "ipython3",
   "version": "3.8.5-final"
  },
  "orig_nbformat": 2,
  "kernelspec": {
   "name": "python3",
   "display_name": "Python 3",
   "language": "python"
  }
 },
 "nbformat": 4,
 "nbformat_minor": 2,
 "cells": [
  {
   "source": [
    "# Binary Search Tree (Linked List) \n",
    "    Creating A Tree Node\n",
    "    PreOrder Traversal\n",
    "    InOrder Traversal\n",
    "    PostOrder Traversal\n",
    "\n",
    "    Insertion\n",
    "    Searching"
   ],
   "cell_type": "markdown",
   "metadata": {}
  },
  {
   "cell_type": "code",
   "execution_count": 1,
   "metadata": {},
   "outputs": [],
   "source": [
    "class BSTNode:\n",
    "    def __init__(self, data):\n",
    "        self.data = data\n",
    "        self.leftChild = None\n",
    "        self.rightChild = None"
   ]
  },
  {
   "cell_type": "code",
   "execution_count": 2,
   "metadata": {},
   "outputs": [],
   "source": [
    "def preOrderTraversal(rootNode):\n",
    "    if not rootNode:\n",
    "        return\n",
    "    print(rootNode.data)\n",
    "    preOrderTraversal(rootNode.leftChild)\n",
    "    preOrderTraversal(rootNode.rightChild)"
   ]
  },
  {
   "cell_type": "code",
   "execution_count": 3,
   "metadata": {},
   "outputs": [],
   "source": [
    "def inOrderTraversal(rootNode):\n",
    "    if not rootNode:\n",
    "        return\n",
    "    inOrderTraversal(rootNode.leftChild)\n",
    "    print(rootNode.data)\n",
    "    inOrderTraversal(rootNode.rightChild)"
   ]
  },
  {
   "cell_type": "code",
   "execution_count": 4,
   "metadata": {},
   "outputs": [],
   "source": [
    "def postOrderTraversal(rootNode):\n",
    "    if not rootNode:\n",
    "        return\n",
    "    postOrderTraversal(rootNode.leftChild)\n",
    "    postOrderTraversal(rootNode.rightChild)\n",
    "    print(rootNode.data)"
   ]
  },
  {
   "cell_type": "code",
   "execution_count": 5,
   "metadata": {},
   "outputs": [],
   "source": [
    "\n",
    "def insertNode(rootNode, nodeValue):\n",
    "    if rootNode.data == None:\n",
    "        rootNode.data = nodeValue\n",
    "    elif nodeValue <= rootNode.data:\n",
    "        if rootNode.leftChild is None:\n",
    "            rootNode.leftChild = BSTNode(nodeValue)\n",
    "        else:\n",
    "            insertNode(rootNode.leftChild, nodeValue)\n",
    "    else:\n",
    "        if rootNode.rightChild is None:\n",
    "            rootNode.rightChild = BSTNode(nodeValue)\n",
    "        else:\n",
    "            insertNode(rootNode.rightChild, nodeValue)\n",
    "    return \"The node has been successfully inserted\""
   ]
  },
  {
   "cell_type": "code",
   "execution_count": 6,
   "metadata": {},
   "outputs": [
    {
     "output_type": "execute_result",
     "data": {
      "text/plain": [
       "'The node has been successfully inserted'"
      ]
     },
     "metadata": {},
     "execution_count": 6
    }
   ],
   "source": [
    "newBST = BSTNode(None)\n",
    "insertNode(newBST, 70)\n",
    "insertNode(newBST,50)\n",
    "insertNode(newBST,90)\n",
    "insertNode(newBST, 30)\n",
    "insertNode(newBST,60)\n",
    "insertNode(newBST,80)\n",
    "insertNode(newBST,100)\n",
    "insertNode(newBST,20)\n",
    "insertNode(newBST,40)"
   ]
  },
  {
   "cell_type": "code",
   "execution_count": 7,
   "metadata": {},
   "outputs": [
    {
     "output_type": "stream",
     "name": "stdout",
     "text": [
      "70\n50\n30\n20\n40\n60\n90\n80\n100\n"
     ]
    }
   ],
   "source": [
    "preOrderTraversal(newBST)"
   ]
  },
  {
   "cell_type": "code",
   "execution_count": 8,
   "metadata": {},
   "outputs": [],
   "source": [
    "def searchNode(rootNode, nodeValue):\n",
    "    if rootNode.data == nodeValue:\n",
    "        print(\"The value is found\")\n",
    "    elif nodeValue < rootNode.data:\n",
    "        if rootNode.leftChild.data == nodeValue:\n",
    "            print(\"The value is found\")\n",
    "        else:\n",
    "            searchNode(rootNode.leftChild, nodeValue)\n",
    "    else:\n",
    "        if rootNode.rightChild.data == nodeValue:\n",
    "            print(\"The value is found\")\n",
    "        else:\n",
    "            searchNode(rootNode.rightChild, nodeValue)"
   ]
  },
  {
   "cell_type": "code",
   "execution_count": 10,
   "metadata": {},
   "outputs": [
    {
     "output_type": "stream",
     "name": "stdout",
     "text": [
      "The value is found\n"
     ]
    }
   ],
   "source": [
    "searchNode(newBST,80)"
   ]
  }
 ]
}