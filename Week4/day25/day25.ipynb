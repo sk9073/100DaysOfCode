{
 "metadata": {
  "language_info": {
   "codemirror_mode": {
    "name": "ipython",
    "version": 3
   },
   "file_extension": ".py",
   "mimetype": "text/x-python",
   "name": "python",
   "nbconvert_exporter": "python",
   "pygments_lexer": "ipython3",
   "version": "3.8.5-final"
  },
  "orig_nbformat": 2,
  "kernelspec": {
   "name": "python3",
   "display_name": "Python 3",
   "language": "python"
  }
 },
 "nbformat": 4,
 "nbformat_minor": 2,
 "cells": [
  {
   "source": [
    "## Kth ancestor of a node in binary tree\n",
    "https://www.geeksforgeeks.org/kth-ancestor-node-binary-tree-set-2/"
   ],
   "cell_type": "markdown",
   "metadata": {}
  },
  {
   "cell_type": "code",
   "execution_count": 1,
   "metadata": {},
   "outputs": [],
   "source": [
    "class newNode:\n",
    "    \n",
    "    # Constructor to create a new node  \n",
    "    def __init__(self, data):  \n",
    "        self.data = data  \n",
    "        self.left = None\n",
    "        self.right = None"
   ]
  },
  {
   "cell_type": "code",
   "execution_count": 2,
   "metadata": {},
   "outputs": [],
   "source": [
    "def kthAncestorDFS(root, node, k):  \n",
    "    if (not root): \n",
    "        return None\n",
    "    #Even a roots value is truee\n",
    "    if (root.data == node or (kthAncestorDFS(root.left, node, k)) or (kthAncestorDFS(root.right, node, k))): \n",
    "          \n",
    "        if (k[0] > 0): \n",
    "            k[0] -= 1\n",
    "          \n",
    "        elif (k[0] == 0): \n",
    "              \n",
    "            print(\"Kth ancestor is:\", root.data) \n",
    "              \n",
    "            return None\n",
    "              \n",
    "        return root "
   ]
  },
  {
   "cell_type": "code",
   "execution_count": 3,
   "metadata": {},
   "outputs": [
    {
     "output_type": "stream",
     "name": "stdout",
     "text": [
      "Kth ancestor is: 1\n"
     ]
    }
   ],
   "source": [
    "if __name__ == '__main__': \n",
    "    root = newNode(1)  \n",
    "    root.left = newNode(2)  \n",
    "    root.right = newNode(3)  \n",
    "    root.left.left = newNode(4)  \n",
    "    root.left.right = newNode(5)  \n",
    "  \n",
    "    k = [2] \n",
    "    node = 5\n",
    "  \n",
    "    # prkth ancestor of given node  \n",
    "    parent = kthAncestorDFS(root,node,k)  \n",
    "      \n",
    "    # check if parent is not None, it means  \n",
    "    # there is no Kth ancestor of the node  \n",
    "    if (parent): \n",
    "        print(\"-1\") "
   ]
  }
 ]
}