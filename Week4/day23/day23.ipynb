{
 "metadata": {
  "language_info": {
   "codemirror_mode": {
    "name": "ipython",
    "version": 3
   },
   "file_extension": ".py",
   "mimetype": "text/x-python",
   "name": "python",
   "nbconvert_exporter": "python",
   "pygments_lexer": "ipython3",
   "version": "3.8.5-final"
  },
  "orig_nbformat": 2,
  "kernelspec": {
   "name": "python3",
   "display_name": "Python 3",
   "language": "python"
  }
 },
 "nbformat": 4,
 "nbformat_minor": 2,
 "cells": [
  {
   "source": [
    "## Checking if a binary tree has duplicate subtree\n",
    "https://www.geeksforgeeks.org/check-binary-tree-contains-duplicate-subtrees-size-2/"
   ],
   "cell_type": "markdown",
   "metadata": {}
  },
  {
   "cell_type": "code",
   "execution_count": 5,
   "metadata": {},
   "outputs": [],
   "source": [
    "class Node:\n",
    "     \n",
    "    def __init__(self, x):\n",
    "         \n",
    "        self.key = x\n",
    "        self.left = None\n",
    "        self.right = None\n",
    "\n",
    "MARKER = '$'\n",
    "subtrees = {}\n"
   ]
  },
  {
   "cell_type": "code",
   "execution_count": 6,
   "metadata": {},
   "outputs": [],
   "source": [
    "def dupSubUtil(root):\n",
    "    global subtrees\n",
    "\n",
    "    s = \"\"\n",
    "    if root == None:\n",
    "        return s + MARKER\n",
    "\n",
    "    # If left subtree has a duplicate subtree.\n",
    "    lstr = dupSubUtil(root.left)\n",
    "\n",
    "    if s in lstr:\n",
    "        return s\n",
    "\n",
    "    # If right subtree has a duplicate subtree.\n",
    "    rstr = dupSubUtil(root.right)\n",
    "\n",
    "    if s in rstr:\n",
    "        return s\n",
    "\n",
    "    s = s + root.key + lstr + rstr\n",
    "    if (len(s) > 3 and s in subtrees):\n",
    "        return \"\"\n",
    "    subtrees[s] = 1\n",
    "\n",
    "    return s"
   ]
  },
  {
   "cell_type": "code",
   "execution_count": 7,
   "metadata": {},
   "outputs": [
    {
     "output_type": "stream",
     "name": "stdout",
     "text": [
      " Yes \n"
     ]
    }
   ],
   "source": [
    "if __name__ == '__main__':\n",
    "     \n",
    "    root = Node('A')\n",
    "    root.left = Node('B')\n",
    "    root.right = Node('C')\n",
    "    root.left.left = Node('D')\n",
    "    root.left.right = Node('E')\n",
    "    root.right.right = Node('B')\n",
    "    root.right.right.right = Node('E')\n",
    "    root.right.right.left= Node('D')\n",
    " \n",
    "    str = dupSubUtil(root)\n",
    " \n",
    "    if \"\" in str:\n",
    "        print(\" Yes \")\n",
    "    else:\n",
    "        print(\" No \")"
   ]
  }
 ]
}