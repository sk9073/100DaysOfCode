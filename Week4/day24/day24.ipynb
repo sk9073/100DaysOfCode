{
 "metadata": {
  "language_info": {
   "codemirror_mode": {
    "name": "ipython",
    "version": 3
   },
   "file_extension": ".py",
   "mimetype": "text/x-python",
   "name": "python",
   "nbconvert_exporter": "python",
   "pygments_lexer": "ipython3",
   "version": "3.8.5-final"
  },
  "orig_nbformat": 2,
  "kernelspec": {
   "name": "python3",
   "display_name": "Python 3",
   "language": "python"
  }
 },
 "nbformat": 4,
 "nbformat_minor": 2,
 "cells": [
  {
   "source": [
    "## Find All Duplicate Subtrees\n",
    "https://www.geeksforgeeks.org/find-duplicate-subtrees/"
   ],
   "cell_type": "markdown",
   "metadata": {}
  },
  {
   "cell_type": "code",
   "execution_count": 1,
   "metadata": {},
   "outputs": [],
   "source": [
    "class newNode: \n",
    "    def __init__(self, data): \n",
    "        self.data = data  \n",
    "        self.left = self.right = None"
   ]
  },
  {
   "cell_type": "code",
   "execution_count": 2,
   "metadata": {},
   "outputs": [],
   "source": [
    "def inorder(node, m): \n",
    "    if (not node):  \n",
    "        return \"\"  \n",
    "    \n",
    "    Strs = \"(\"\n",
    "    Strs += inorder(node.left, m) \n",
    "    data = str(node.data) \n",
    "    Strs += data  \n",
    "    Strs += inorder(node.right, m)  \n",
    "    Strs += \")\"\n",
    "  \n",
    "    if (Strs in m and m[Strs] == 1):  \n",
    "        print(node.data, end = \" \")  \n",
    "    if Strs in m: \n",
    "        m[Strs] += 1\n",
    "    else: \n",
    "        m[Strs] = 1\n",
    "  \n",
    "    return Strs"
   ]
  },
  {
   "cell_type": "code",
   "execution_count": 3,
   "metadata": {},
   "outputs": [],
   "source": [
    "def printAllDups(root): \n",
    "    m = {}  \n",
    "    inorder(root, m) "
   ]
  },
  {
   "cell_type": "code",
   "execution_count": 4,
   "metadata": {},
   "outputs": [
    {
     "output_type": "stream",
     "name": "stdout",
     "text": [
      "D E B "
     ]
    }
   ],
   "source": [
    "if __name__ == '__main__': \n",
    "    root = None\n",
    "    root = newNode(\"A\")  \n",
    "    root.left = newNode(\"B\")  \n",
    "    root.right = newNode(\"C\")  \n",
    "    root.left.left = newNode(\"D\")  \n",
    "    root.left.right = newNode(\"E\")  \n",
    "    root.right.right = newNode(\"B\")  \n",
    "    root.right.right.right = newNode(\"E\")\n",
    "    root.right.right.left = newNode(\"D\")     \n",
    "    printAllDups(root)  "
   ]
  }
 ]
}