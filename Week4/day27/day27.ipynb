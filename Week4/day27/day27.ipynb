{
 "metadata": {
  "language_info": {
   "codemirror_mode": {
    "name": "ipython",
    "version": 3
   },
   "file_extension": ".py",
   "mimetype": "text/x-python",
   "name": "python",
   "nbconvert_exporter": "python",
   "pygments_lexer": "ipython3",
   "version": "3.8.5-final"
  },
  "orig_nbformat": 2,
  "kernelspec": {
   "name": "python3",
   "display_name": "Python 3",
   "language": "python"
  }
 },
 "nbformat": 4,
 "nbformat_minor": 2,
 "cells": [
  {
   "source": [
    "# Binary Search Tree (Linked List) "
   ],
   "cell_type": "markdown",
   "metadata": {}
  },
  {
   "cell_type": "code",
   "execution_count": 1,
   "metadata": {},
   "outputs": [],
   "source": [
    "class BSTNode:\n",
    "    def __init__(self, data):\n",
    "        self.data = data\n",
    "        self.leftChild = None\n",
    "        self.rightChild = None"
   ]
  },
  {
   "cell_type": "code",
   "execution_count": 2,
   "metadata": {},
   "outputs": [],
   "source": [
    "def preOrderTraversal(rootNode):\n",
    "    if not rootNode:\n",
    "        return\n",
    "    print(rootNode.data)\n",
    "    preOrderTraversal(rootNode.leftChild)\n",
    "    preOrderTraversal(rootNode.rightChild)"
   ]
  },
  {
   "source": [
    "### Deleting a Node"
   ],
   "cell_type": "markdown",
   "metadata": {}
  },
  {
   "cell_type": "code",
   "execution_count": 3,
   "metadata": {},
   "outputs": [],
   "source": [
    "def minValueNode(bstNode):\n",
    "    current = bstNode\n",
    "    while (current.leftChild is not None):\n",
    "        current = current.leftChild\n",
    "    return current"
   ]
  },
  {
   "cell_type": "code",
   "execution_count": 4,
   "metadata": {},
   "outputs": [],
   "source": [
    "def deleteNode(rootNode, nodeValue):\n",
    "    if rootNode is None:\n",
    "        return rootNode\n",
    "    elif nodeValue < rootNode.data:\n",
    "        rootNode.leftChild = deleteNode(rootNode.leftChild,nodeValue)\n",
    "    elif nodeValue > rootNode.data:\n",
    "        rootNode.rightChild = deleteNode(rootNode.rightChild,nodeValue)\n",
    "    else:\n",
    "        if rootNode.leftChild is None:\n",
    "            temp = rootNode.rightChild\n",
    "            rootNode = None\n",
    "            return temp\n",
    "        \n",
    "        if rootNode.rightChild is None:\n",
    "            temp = rootNode.leftChild\n",
    "            rootNode = None\n",
    "            return temp\n",
    "        \n",
    "        temp = minValueNode(rootNode.rightChild)\n",
    "        rootNode.data = temp.data\n",
    "        rootNode.rightChild = deleteNode(rootNode.rightChild,temp.data)\n",
    "\n",
    "    return rootNode"
   ]
  }
 ]
}